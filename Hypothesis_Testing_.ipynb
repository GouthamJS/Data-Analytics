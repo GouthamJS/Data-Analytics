{
 "cells": [
  {
   "cell_type": "code",
   "execution_count": 4,
   "id": "0a3b8624",
   "metadata": {},
   "outputs": [],
   "source": [
    "#AGENDA\n",
    "#Hypothesis Testing\n",
    "#(Business statistics) \n",
    "#T statistics, z statitics\n",
    "#p value(probability value)\n",
    "#One T test,Two T test\n",
    "# ONE T TEST \n",
    "import numpy as np\n",
    "from scipy import stats\n",
    "student_scores=np.array([72,89,65,73,79,84,63,76,85,75])\n",
    "mu=70\n",
    "# mu=population mean=sample mean/square root n\n"
   ]
  },
  {
   "cell_type": "code",
   "execution_count": 8,
   "id": "269fccb3",
   "metadata": {},
   "outputs": [
    {
     "data": {
      "text/plain": [
       "(2.2894683580127317, 0.047816221110566944)"
      ]
     },
     "execution_count": 8,
     "metadata": {},
     "output_type": "execute_result"
    }
   ],
   "source": [
    "t_stat,p_value=stats.ttest_1samp(student_scores,mu)\n",
    "t_stat,p_value"
   ]
  },
  {
   "cell_type": "code",
   "execution_count": 9,
   "id": "ed1a2831",
   "metadata": {},
   "outputs": [
    {
     "name": "stdout",
     "output_type": "stream",
     "text": [
      "The T statistics: 2.2894683580127317\n"
     ]
    }
   ],
   "source": [
    "print( \"The T statistics:\",t_stat)"
   ]
  },
  {
   "cell_type": "code",
   "execution_count": 10,
   "id": "1f770065",
   "metadata": {},
   "outputs": [
    {
     "name": "stdout",
     "output_type": "stream",
     "text": [
      "The P statistics: 0.047816221110566944\n"
     ]
    }
   ],
   "source": [
    "print( \"The P statistics:\",p_value)"
   ]
  },
  {
   "cell_type": "code",
   "execution_count": 12,
   "id": "ac2346b7",
   "metadata": {},
   "outputs": [
    {
     "name": "stdout",
     "output_type": "stream",
     "text": [
      "reject Null Hypothesis\n"
     ]
    }
   ],
   "source": [
    "alpha=0.05\n",
    "if p_value<=alpha:\n",
    "   print(\"reject Null Hypothesis\")\n",
    "else:\n",
    "   print(\"Accept Null hypothesis\")"
   ]
  },
  {
   "cell_type": "code",
   "execution_count": null,
   "id": "b8ed0351",
   "metadata": {},
   "outputs": [],
   "source": [
    "# BECAUSE 0.04 IS LESS THAN0.05 IT IS REJECTING NULL HYPOTHESIS"
   ]
  },
  {
   "cell_type": "code",
   "execution_count": 15,
   "id": "8ccafea8",
   "metadata": {},
   "outputs": [],
   "source": [
    "#TWO T TEST\n",
    "import numpy as np\n",
    "data_group1= np.array([14, 15, 15, 16, 13, 8, 14, 17, 16, 14, 19, 20, 21, 15, 15, 16, 16, 13, 14, 12])\n",
    "data_group2=np.array([15, 17, 14, 17, 14, 8, 12, 19, 19, 14, 17, 22, 24, 16, 13, 16, 13, 18, 15, 13])"
   ]
  },
  {
   "cell_type": "code",
   "execution_count": 21,
   "id": "92fe6af8",
   "metadata": {},
   "outputs": [],
   "source": [
    "from scipy.stats import ttest_ind\n",
    "t_statitics,p_value=ttest_ind(data_group1,data_group2,equal_var=True)\n",
    "#ttest_ind:Calculate t-test for two independent samples from descriptive statitics\n",
    "#ttest_1samp: Calculates the t test for the mean of one group of scores"
   ]
  },
  {
   "cell_type": "code",
   "execution_count": 17,
   "id": "d1616635",
   "metadata": {},
   "outputs": [
    {
     "data": {
      "text/plain": [
       "(-0.6337397070250238, 0.5300471010405257)"
      ]
     },
     "execution_count": 17,
     "metadata": {},
     "output_type": "execute_result"
    }
   ],
   "source": [
    "t_statitics,p_value"
   ]
  },
  {
   "cell_type": "code",
   "execution_count": 24,
   "id": "4122366b",
   "metadata": {},
   "outputs": [
    {
     "name": "stdout",
     "output_type": "stream",
     "text": [
      "Two -sample T- SET(equal_var)\n",
      "T-statistics:-0.634\n",
      "P-statistics:0.53005\n"
     ]
    }
   ],
   "source": [
    "print(f\"Two -sample T- SET(equal_var)\")\n",
    "print(f\"T-statistics:{t_statitics:.3f}\")\n",
    "print(f\"P-statistics:{p_value:.5f}\")"
   ]
  },
  {
   "cell_type": "code",
   "execution_count": 25,
   "id": "4d61a4d0",
   "metadata": {},
   "outputs": [
    {
     "name": "stdout",
     "output_type": "stream",
     "text": [
      "Accept Null hypothesis\n"
     ]
    }
   ],
   "source": [
    "# Alpha is significance threshold(5 percent threshold is allowed)\n",
    "alpha=0.05\n",
    "if p_value<=alpha:\n",
    "   print(\"reject Null Hypothesis\")\n",
    "else:\n",
    "   print(\"Accept Null hypothesis\")"
   ]
  },
  {
   "cell_type": "code",
   "execution_count": null,
   "id": "70ce0315",
   "metadata": {},
   "outputs": [],
   "source": [
    "# 0.5>0.05"
   ]
  }
 ],
 "metadata": {
  "kernelspec": {
   "display_name": "Python 3 (ipykernel)",
   "language": "python",
   "name": "python3"
  },
  "language_info": {
   "codemirror_mode": {
    "name": "ipython",
    "version": 3
   },
   "file_extension": ".py",
   "mimetype": "text/x-python",
   "name": "python",
   "nbconvert_exporter": "python",
   "pygments_lexer": "ipython3",
   "version": "3.11.5"
  }
 },
 "nbformat": 4,
 "nbformat_minor": 5
}
