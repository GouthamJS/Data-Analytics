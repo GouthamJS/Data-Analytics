{
  "nbformat": 4,
  "nbformat_minor": 0,
  "metadata": {
    "colab": {
      "provenance": []
    },
    "kernelspec": {
      "name": "python3",
      "display_name": "Python 3"
    },
    "language_info": {
      "name": "python"
    }
  },
  "cells": [
    {
      "cell_type": "code",
      "execution_count": 1,
      "metadata": {
        "id": "N0FlsOflAc-2"
      },
      "outputs": [],
      "source": [
        "import numpy as np\n",
        "from scipy import stats\n",
        "student_scores=np.array([72,89,65,73,79,84,63,76,85,75])\n",
        "mu=70"
      ]
    },
    {
      "cell_type": "code",
      "source": [
        "t_stat,p_value=stats.ttest_1samp(student_scores,mu)\n",
        "print(\"t-statistic:\",t_stat)\n",
        "print(\"p-value:\",p_value)"
      ],
      "metadata": {
        "colab": {
          "base_uri": "https://localhost:8080/"
        },
        "id": "IgRBYnRxAuTH",
        "outputId": "fa6a5e26-fcaf-4daf-8d93-ebfada8046dc"
      },
      "execution_count": 3,
      "outputs": [
        {
          "output_type": "stream",
          "name": "stdout",
          "text": [
            "t-statistic: 2.2894683580127317\n",
            "p-value: 0.047816221110566944\n"
          ]
        }
      ]
    },
    {
      "cell_type": "code",
      "source": [
        "alpha=0.05\n",
        "if p_value<alpha:\n",
        "    print(\"Reject the null hypothesis\")\n",
        "else:\n",
        "    print(\"Accept null hypothesis\")"
      ],
      "metadata": {
        "colab": {
          "base_uri": "https://localhost:8080/"
        },
        "id": "HeBR3HXEBYMr",
        "outputId": "9feebd20-db4b-4f1e-a5c6-b49983036df4"
      },
      "execution_count": 4,
      "outputs": [
        {
          "output_type": "stream",
          "name": "stdout",
          "text": [
            "Reject the null hypothesis\n"
          ]
        }
      ]
    },
    {
      "cell_type": "code",
      "source": [
        "data_group1=np.array([10,12,14,16,18])\n",
        "data_group2=np.array([9,11,13,15,17])"
      ],
      "metadata": {
        "id": "dNr4Ler5Bs95"
      },
      "execution_count": 5,
      "outputs": []
    },
    {
      "cell_type": "code",
      "source": [
        "from scipy.stats import ttest_ind\n",
        "t_statitics,p_value=ttest_ind(data_group1,data_group2,equal_var=True)"
      ],
      "metadata": {
        "id": "HS4ffwZGBtKD"
      },
      "execution_count": 7,
      "outputs": []
    },
    {
      "cell_type": "code",
      "source": [
        "t_statitics,p_value"
      ],
      "metadata": {
        "colab": {
          "base_uri": "https://localhost:8080/"
        },
        "id": "LjA1c7NZIBnV",
        "outputId": "ac3e34c8-fbb5-44f3-aedf-83ee76b5ef0b"
      },
      "execution_count": 8,
      "outputs": [
        {
          "output_type": "execute_result",
          "data": {
            "text/plain": [
              "(0.5, 0.6305360755569764)"
            ]
          },
          "metadata": {},
          "execution_count": 8
        }
      ]
    },
    {
      "cell_type": "code",
      "source": [
        "print(f\"Two -sample T-SET(equal_var)\")\n",
        "print(f\"T-statistics:{t_statitics:.5f}\")\n",
        "print(f\"P-statistics:{p_value:.5f}\")"
      ],
      "metadata": {
        "colab": {
          "base_uri": "https://localhost:8080/"
        },
        "id": "dMi5XF-RIHQN",
        "outputId": "1ac568ce-d816-4367-e854-97d05314d2e7"
      },
      "execution_count": 9,
      "outputs": [
        {
          "output_type": "stream",
          "name": "stdout",
          "text": [
            "Two -sample T-SET(equal_var)\n",
            "T-statistics:0.50000\n",
            "P-statistics:0.63054\n"
          ]
        }
      ]
    },
    {
      "cell_type": "code",
      "source": [
        "alpha=0.05\n",
        "if p_value<alpha:\n",
        "    print(\"Reject the null hypothesis\")\n",
        "else:\n",
        "    print(\"Accept the null hypothesis\")"
      ],
      "metadata": {
        "colab": {
          "base_uri": "https://localhost:8080/"
        },
        "id": "gVlV47eVKKGQ",
        "outputId": "947004f8-d4aa-4087-e1ac-2ff1e007bd94"
      },
      "execution_count": 11,
      "outputs": [
        {
          "output_type": "stream",
          "name": "stdout",
          "text": [
            "Accept the null hypothesis\n"
          ]
        }
      ]
    },
    {
      "cell_type": "code",
      "source": [],
      "metadata": {
        "id": "MgGwJCu3KOJJ"
      },
      "execution_count": null,
      "outputs": []
    }
  ]
}